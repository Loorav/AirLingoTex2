{
 "cells": [
  {
   "cell_type": "code",
   "execution_count": 24,
   "metadata": {},
   "outputs": [],
   "source": [
    "import transformers"
   ]
  },
  {
   "cell_type": "code",
   "execution_count": 25,
   "metadata": {},
   "outputs": [
    {
     "name": "stderr",
     "output_type": "stream",
     "text": [
      "Special tokens have been added in the vocabulary, make sure the associated word embeddings are fine-tuned or trained.\n"
     ]
    }
   ],
   "source": [
    "from transformers import T5ForConditionalGeneration, T5Tokenizer\n",
    "\n",
    "model_name = \"t5-base\"\n",
    "\n",
    "model_test = T5ForConditionalGeneration.from_pretrained(model_name, return_dict = True)\n",
    "\n",
    "tokenizer_test = T5Tokenizer.from_pretrained(model_name)"
   ]
  },
  {
   "cell_type": "code",
   "execution_count": 26,
   "metadata": {},
   "outputs": [],
   "source": [
    "import torch\n",
    "\n",
    "# Vérifie si un GPU est disponible et le sélectionne, sinon utilise le CPU\n",
    "device = torch.device(\"cuda\" if torch.cuda.is_available() else \"cpu\")"
   ]
  },
  {
   "cell_type": "code",
   "execution_count": 27,
   "metadata": {},
   "outputs": [],
   "source": [
    "# Pour T5, l'ID du token <pad> peut être utilisé comme decoder_start_token_id\n",
    "decoder_start_token_id = tokenizer_test.pad_token_id"
   ]
  },
  {
   "cell_type": "code",
   "execution_count": 28,
   "metadata": {},
   "outputs": [],
   "source": [
    "def summarize_test(text):\n",
    "    inputs = tokenizer_test(text,\n",
    "                            max_length=512,\n",
    "                            truncation=True,\n",
    "                            padding=\"max_length\",\n",
    "                            return_attention_mask=True,\n",
    "                            add_special_tokens=True,\n",
    "                            return_tensors=\"pt\").to(device)\n",
    "    summarized_ids = model_test.generate(\n",
    "        input_ids=inputs[\"input_ids\"],\n",
    "        attention_mask=inputs[\"attention_mask\"],\n",
    "        max_length=150,\n",
    "        num_beams=2,\n",
    "        repetition_penalty=2.5,\n",
    "        length_penalty=1.0,\n",
    "        early_stopping=True\n",
    "    ).to(device)\n",
    "    \n",
    "\n",
    "    return \" \".join([tokenizer_test.decode(token_ids, skip_special_tokens=True, clean_up_tokenization_spaces=True) for token_ids in summarized_ids])"
   ]
  },
  {
   "cell_type": "code",
   "execution_count": 29,
   "metadata": {},
   "outputs": [],
   "source": [
    "text=\"These general Standard Conditions of Sale apply to any sale of Products and/or Services sold by the Seller to its Customer(s), excluding brokerage or other distributor activities. The purchase of the Products and/or Services by a Customer is considered to be performed within the framework of its professional activities.\""
   ]
  },
  {
   "cell_type": "code",
   "execution_count": 30,
   "metadata": {},
   "outputs": [
    {
     "data": {
      "text/plain": [
       "'to its Customer(s). the Seller to its Customer(s), excluding brokerage or other distributor activities.'"
      ]
     },
     "execution_count": 30,
     "metadata": {},
     "output_type": "execute_result"
    }
   ],
   "source": [
    "summarize_test(text)"
   ]
  },
  {
   "cell_type": "code",
   "execution_count": null,
   "metadata": {},
   "outputs": [],
   "source": []
  }
 ],
 "metadata": {
  "kernelspec": {
   "display_name": "venv",
   "language": "python",
   "name": "python3"
  },
  "language_info": {
   "codemirror_mode": {
    "name": "ipython",
    "version": 3
   },
   "file_extension": ".py",
   "mimetype": "text/x-python",
   "name": "python",
   "nbconvert_exporter": "python",
   "pygments_lexer": "ipython3",
   "version": "3.11.5"
  }
 },
 "nbformat": 4,
 "nbformat_minor": 2
}
